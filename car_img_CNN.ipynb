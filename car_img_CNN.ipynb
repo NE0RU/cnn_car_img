{
 "cells": [
  {
   "cell_type": "code",
   "execution_count": 1,
   "metadata": {},
   "outputs": [
    {
     "name": "stdout",
     "output_type": "stream",
     "text": [
      "g80  파일 길이 :  1191\n",
      "g80  :  data/train/g80\\g80_1.jpg\n",
      "g80  :  data/train/g80\\g80_557.jpg\n",
      "gv70  파일 길이 :  335\n",
      "gv70  :  data/train/gv70\\gv70_1.jpg\n",
      "gv80  파일 길이 :  1665\n",
      "gv80  :  data/train/gv80\\gv80_1.jpg\n",
      "gv80  :  data/train/gv80\\gv80_1629.jpg\n",
      "gv80  :  data/train/gv80\\gv80_760.jpg\n",
      "kia stinger  파일 길이 :  666\n",
      "kia stinger  :  data/train/kia stinger\\kia stinger_1.jpg\n",
      "ok 3857\n"
     ]
    }
   ],
   "source": [
    "from PIL import Image\n",
    "import os, glob, numpy as np\n",
    "from sklearn.model_selection import train_test_split\n",
    "\n",
    "caltech_dir = \"data/train\"\n",
    "categories = [\"g80\", \"gv70\", \"gv80\", \"kia stinger\"]\n",
    "nb_classes = len(categories)\n",
    "\n",
    "image_w = 64\n",
    "image_h = 64\n",
    "\n",
    "pixels = image_h * image_w * 3\n",
    "\n",
    "X = []\n",
    "y = []\n",
    "\n",
    "for idx, cat in enumerate(categories):\n",
    "    \n",
    "    #one-hot 돌리기.\n",
    "    label = [0 for i in range(nb_classes)]\n",
    "    label[idx] = 1\n",
    "\n",
    "    image_dir = caltech_dir + \"/\" + cat\n",
    "    files = glob.glob(image_dir+\"/*.jpg\")\n",
    "    print(cat, \" 파일 길이 : \", len(files))\n",
    "    for i, f in enumerate(files):\n",
    "        img = Image.open(f)\n",
    "        img = img.convert(\"RGB\")\n",
    "        img = img.resize((image_w, image_h))\n",
    "        data = np.asarray(img)\n",
    "\n",
    "        X.append(data)\n",
    "        y.append(label)\n",
    "\n",
    "        if i % 700 == 0:\n",
    "            print(cat, \" : \", f)\n",
    "\n",
    "X = np.array(X)\n",
    "y = np.array(y)\n",
    "\n",
    "\n",
    "X_train, X_test, y_train, y_test = train_test_split(X, y)\n",
    "xy = (X_train, X_test, y_train, y_test)\n",
    "np.save(\"numpy_data/multi_image_data.npy\", xy)\n",
    "\n",
    "print(\"ok\", len(y))"
   ]
  },
  {
   "cell_type": "code",
   "execution_count": 9,
   "metadata": {
    "scrolled": false
   },
   "outputs": [
    {
     "name": "stdout",
     "output_type": "stream",
     "text": [
      "(2892, 64, 64, 3)\n",
      "2892\n"
     ]
    }
   ],
   "source": [
    "import os, glob, numpy as np\n",
    "from keras.models import Sequential\n",
    "from keras.layers import Conv2D, MaxPooling2D, Dense, Flatten, Dropout\n",
    "from keras.callbacks import EarlyStopping, ModelCheckpoint\n",
    "import matplotlib.pyplot as plt\n",
    "import keras.backend.tensorflow_backend as K\n",
    "\n",
    "import tensorflow.compat.v1 as tf\n",
    "tf.disable_v2_behavior()\n",
    "config = tf.ConfigProto()\n",
    "config.gpu_options.allow_growth = True\n",
    "session = tf.Session(config=config)\n",
    "\n",
    "X_train, X_test, y_train, y_test = np.load('numpy_data/multi_image_data.npy')\n",
    "print(X_train.shape)\n",
    "print(X_train.shape[0])"
   ]
  },
  {
   "cell_type": "code",
   "execution_count": 10,
   "metadata": {},
   "outputs": [],
   "source": [
    "categories = [\"g80\", \"gv70\", \"gv80\", \"kia stinger\"]\n",
    "nb_classes = len(categories)\n",
    "\n",
    "#일반화\n",
    "X_train = X_train.astype(float) / 255\n",
    "X_test = X_test.astype(float) / 255"
   ]
  },
  {
   "cell_type": "code",
   "execution_count": 11,
   "metadata": {},
   "outputs": [
    {
     "name": "stdout",
     "output_type": "stream",
     "text": [
      "[name: \"/device:CPU:0\"\n",
      "device_type: \"CPU\"\n",
      "memory_limit: 268435456\n",
      "locality {\n",
      "}\n",
      "incarnation: 9934898708060034247\n",
      "]\n"
     ]
    }
   ],
   "source": [
    "from tensorflow.python.client import device_lib\n",
    "print(device_lib.list_local_devices())"
   ]
  },
  {
   "cell_type": "code",
   "execution_count": 12,
   "metadata": {
    "scrolled": true
   },
   "outputs": [],
   "source": [
    "with K.tf_ops.device('/device:CPU:0'):\n",
    "    model = Sequential()\n",
    "    model.add(Conv2D(32, (3,3), padding=\"same\", input_shape=X_train.shape[1:], activation='relu'))\n",
    "    model.add(MaxPooling2D(pool_size=(2,2)))\n",
    "    model.add(Dropout(0.25))\n",
    "    \n",
    "    model.add(Conv2D(64, (3,3), padding=\"same\", activation='relu'))\n",
    "    model.add(MaxPooling2D(pool_size=(2,2)))\n",
    "    model.add(Dropout(0.25))\n",
    "    \n",
    "    model.add(Flatten())\n",
    "    model.add(Dense(256, activation='relu'))\n",
    "    model.add(Dropout(0.5))\n",
    "    model.add(Dense(nb_classes, activation='softmax'))\n",
    "    model.compile(loss='categorical_crossentropy', optimizer='adam', metrics=['accuracy'])\n",
    "    model_dir = 'model'\n",
    "    \n",
    "    if not os.path.exists(model_dir):\n",
    "        os.mkdir(model_dir)\n",
    "    \n",
    "    model_path = model_dir + '/multi_img_classification.model'\n",
    "    checkpoint = ModelCheckpoint(filepath=model_path , monitor='val_loss', verbose=1, save_best_only=True)\n",
    "    early_stopping = EarlyStopping(monitor='val_loss', patience=6)"
   ]
  },
  {
   "cell_type": "code",
   "execution_count": 13,
   "metadata": {},
   "outputs": [
    {
     "name": "stdout",
     "output_type": "stream",
     "text": [
      "Model: \"sequential_2\"\n",
      "_________________________________________________________________\n",
      "Layer (type)                 Output Shape              Param #   \n",
      "=================================================================\n",
      "conv2d_3 (Conv2D)            (None, 64, 64, 32)        896       \n",
      "_________________________________________________________________\n",
      "max_pooling2d_3 (MaxPooling2 (None, 32, 32, 32)        0         \n",
      "_________________________________________________________________\n",
      "dropout_4 (Dropout)          (None, 32, 32, 32)        0         \n",
      "_________________________________________________________________\n",
      "conv2d_4 (Conv2D)            (None, 32, 32, 64)        18496     \n",
      "_________________________________________________________________\n",
      "max_pooling2d_4 (MaxPooling2 (None, 16, 16, 64)        0         \n",
      "_________________________________________________________________\n",
      "dropout_5 (Dropout)          (None, 16, 16, 64)        0         \n",
      "_________________________________________________________________\n",
      "flatten_2 (Flatten)          (None, 16384)             0         \n",
      "_________________________________________________________________\n",
      "dense_3 (Dense)              (None, 256)               4194560   \n",
      "_________________________________________________________________\n",
      "dropout_6 (Dropout)          (None, 256)               0         \n",
      "_________________________________________________________________\n",
      "dense_4 (Dense)              (None, 4)                 1028      \n",
      "=================================================================\n",
      "Total params: 4,214,980\n",
      "Trainable params: 4,214,980\n",
      "Non-trainable params: 0\n",
      "_________________________________________________________________\n"
     ]
    }
   ],
   "source": [
    "model.summary()"
   ]
  },
  {
   "cell_type": "code",
   "execution_count": 15,
   "metadata": {
    "scrolled": true
   },
   "outputs": [
    {
     "name": "stdout",
     "output_type": "stream",
     "text": [
      "Train on 2892 samples, validate on 965 samples\n",
      "Epoch 1/50\n",
      " - 10s - loss: 1.0979 - accuracy: 0.5190 - val_loss: 1.0931 - val_accuracy: 0.5513\n",
      "Epoch 2/50\n",
      " - 11s - loss: 1.0129 - accuracy: 0.5716 - val_loss: 1.0101 - val_accuracy: 0.5865\n",
      "Epoch 3/50\n",
      " - 11s - loss: 0.9075 - accuracy: 0.6151 - val_loss: 0.9380 - val_accuracy: 0.6228\n",
      "Epoch 4/50\n",
      " - 11s - loss: 0.8022 - accuracy: 0.6642 - val_loss: 0.9016 - val_accuracy: 0.6290\n",
      "Epoch 5/50\n",
      " - 10s - loss: 0.7166 - accuracy: 0.7199 - val_loss: 0.8165 - val_accuracy: 0.6705\n",
      "Epoch 6/50\n",
      " - 10s - loss: 0.6332 - accuracy: 0.7455 - val_loss: 0.8367 - val_accuracy: 0.6446\n",
      "Epoch 7/50\n",
      " - 10s - loss: 0.5312 - accuracy: 0.8022 - val_loss: 0.7499 - val_accuracy: 0.7098\n",
      "Epoch 8/50\n",
      " - 11s - loss: 0.4750 - accuracy: 0.8209 - val_loss: 0.7578 - val_accuracy: 0.6995\n",
      "Epoch 9/50\n",
      " - 11s - loss: 0.3762 - accuracy: 0.8555 - val_loss: 0.6975 - val_accuracy: 0.7347\n",
      "Epoch 10/50\n",
      " - 11s - loss: 0.3198 - accuracy: 0.8838 - val_loss: 0.6885 - val_accuracy: 0.7337\n",
      "Epoch 11/50\n",
      " - 10s - loss: 0.2894 - accuracy: 0.8900 - val_loss: 0.6791 - val_accuracy: 0.7389\n",
      "Epoch 12/50\n",
      " - 11s - loss: 0.2264 - accuracy: 0.9163 - val_loss: 0.7130 - val_accuracy: 0.7358\n",
      "Epoch 13/50\n",
      " - 11s - loss: 0.1994 - accuracy: 0.9308 - val_loss: 0.7411 - val_accuracy: 0.7430\n",
      "Epoch 14/50\n",
      " - 10s - loss: 0.1674 - accuracy: 0.9429 - val_loss: 0.7689 - val_accuracy: 0.7399\n",
      "Epoch 15/50\n",
      " - 11s - loss: 0.1623 - accuracy: 0.9409 - val_loss: 0.7804 - val_accuracy: 0.7389\n",
      "Epoch 16/50\n",
      " - 11s - loss: 0.1325 - accuracy: 0.9564 - val_loss: 0.7669 - val_accuracy: 0.7534\n",
      "Epoch 17/50\n",
      " - 11s - loss: 0.1390 - accuracy: 0.9512 - val_loss: 0.8300 - val_accuracy: 0.7451\n",
      "Epoch 18/50\n",
      " - 11s - loss: 0.1104 - accuracy: 0.9599 - val_loss: 0.7950 - val_accuracy: 0.7648\n",
      "Epoch 19/50\n",
      " - 10s - loss: 0.1038 - accuracy: 0.9616 - val_loss: 0.9312 - val_accuracy: 0.7109\n",
      "Epoch 20/50\n",
      " - 11s - loss: 0.0955 - accuracy: 0.9696 - val_loss: 0.9189 - val_accuracy: 0.7513\n",
      "Epoch 21/50\n",
      " - 11s - loss: 0.0902 - accuracy: 0.9706 - val_loss: 1.0110 - val_accuracy: 0.7109\n",
      "Epoch 22/50\n",
      " - 10s - loss: 0.0779 - accuracy: 0.9723 - val_loss: 0.9635 - val_accuracy: 0.7440\n",
      "Epoch 23/50\n",
      " - 10s - loss: 0.0872 - accuracy: 0.9696 - val_loss: 0.8686 - val_accuracy: 0.7596\n",
      "Epoch 24/50\n",
      " - 10s - loss: 0.0735 - accuracy: 0.9782 - val_loss: 0.9066 - val_accuracy: 0.7648\n",
      "Epoch 25/50\n",
      " - 10s - loss: 0.0891 - accuracy: 0.9689 - val_loss: 0.7998 - val_accuracy: 0.7668\n",
      "Epoch 26/50\n",
      " - 10s - loss: 0.0667 - accuracy: 0.9758 - val_loss: 0.8057 - val_accuracy: 0.7762\n",
      "Epoch 27/50\n",
      " - 10s - loss: 0.0533 - accuracy: 0.9817 - val_loss: 0.9612 - val_accuracy: 0.7544\n",
      "Epoch 28/50\n",
      " - 10s - loss: 0.0700 - accuracy: 0.9751 - val_loss: 1.0244 - val_accuracy: 0.7306\n",
      "Epoch 29/50\n",
      " - 11s - loss: 0.0687 - accuracy: 0.9765 - val_loss: 1.0218 - val_accuracy: 0.7472\n",
      "Epoch 30/50\n",
      " - 11s - loss: 0.0543 - accuracy: 0.9789 - val_loss: 0.9997 - val_accuracy: 0.7503\n",
      "Epoch 31/50\n",
      " - 11s - loss: 0.0433 - accuracy: 0.9844 - val_loss: 0.9531 - val_accuracy: 0.7596\n",
      "Epoch 32/50\n",
      " - 10s - loss: 0.0566 - accuracy: 0.9827 - val_loss: 1.2347 - val_accuracy: 0.7472\n",
      "Epoch 33/50\n",
      " - 11s - loss: 0.0611 - accuracy: 0.9817 - val_loss: 1.0244 - val_accuracy: 0.7523\n",
      "Epoch 34/50\n",
      " - 11s - loss: 0.0556 - accuracy: 0.9803 - val_loss: 1.0195 - val_accuracy: 0.7596\n",
      "Epoch 35/50\n",
      " - 11s - loss: 0.0491 - accuracy: 0.9837 - val_loss: 1.0269 - val_accuracy: 0.7523\n",
      "Epoch 36/50\n",
      " - 11s - loss: 0.0574 - accuracy: 0.9799 - val_loss: 1.0453 - val_accuracy: 0.7264\n",
      "Epoch 37/50\n",
      " - 10s - loss: 0.0596 - accuracy: 0.9786 - val_loss: 0.9744 - val_accuracy: 0.7658\n",
      "Epoch 38/50\n",
      " - 10s - loss: 0.0352 - accuracy: 0.9893 - val_loss: 1.2258 - val_accuracy: 0.7523\n",
      "Epoch 39/50\n",
      " - 10s - loss: 0.0496 - accuracy: 0.9851 - val_loss: 1.0191 - val_accuracy: 0.7668\n",
      "Epoch 40/50\n",
      " - 10s - loss: 0.0431 - accuracy: 0.9882 - val_loss: 0.9350 - val_accuracy: 0.7762\n",
      "Epoch 41/50\n",
      " - 10s - loss: 0.0307 - accuracy: 0.9910 - val_loss: 1.0933 - val_accuracy: 0.7617\n",
      "Epoch 42/50\n",
      " - 11s - loss: 0.0441 - accuracy: 0.9855 - val_loss: 1.0741 - val_accuracy: 0.7648\n",
      "Epoch 43/50\n",
      " - 10s - loss: 0.0352 - accuracy: 0.9886 - val_loss: 0.9921 - val_accuracy: 0.7710\n",
      "Epoch 44/50\n",
      " - 10s - loss: 0.0404 - accuracy: 0.9858 - val_loss: 1.0740 - val_accuracy: 0.7606\n",
      "Epoch 45/50\n",
      " - 10s - loss: 0.0407 - accuracy: 0.9862 - val_loss: 1.1387 - val_accuracy: 0.7575\n",
      "Epoch 46/50\n",
      " - 10s - loss: 0.0488 - accuracy: 0.9834 - val_loss: 1.1434 - val_accuracy: 0.7668\n",
      "Epoch 47/50\n",
      " - 10s - loss: 0.0340 - accuracy: 0.9882 - val_loss: 1.2314 - val_accuracy: 0.7451\n",
      "Epoch 48/50\n",
      " - 10s - loss: 0.0488 - accuracy: 0.9831 - val_loss: 1.0771 - val_accuracy: 0.7772\n",
      "Epoch 49/50\n",
      " - 10s - loss: 0.0344 - accuracy: 0.9889 - val_loss: 1.1298 - val_accuracy: 0.7565\n",
      "Epoch 50/50\n",
      " - 10s - loss: 0.0498 - accuracy: 0.9806 - val_loss: 1.0346 - val_accuracy: 0.7731\n"
     ]
    }
   ],
   "source": [
    "history = model.fit(X_train, y_train, batch_size=32, epochs=50, validation_data=(X_test, y_test), verbose=2)"
   ]
  },
  {
   "cell_type": "code",
   "execution_count": 16,
   "metadata": {},
   "outputs": [
    {
     "name": "stdout",
     "output_type": "stream",
     "text": [
      "965/965 [==============================] - 1s 706us/step\n",
      "정확도 : 0.7731\n"
     ]
    }
   ],
   "source": [
    "print(\"정확도 : %.4f\" % (model.evaluate(X_test, y_test)[1]))"
   ]
  },
  {
   "cell_type": "code",
   "execution_count": 18,
   "metadata": {},
   "outputs": [
    {
     "data": {
      "image/png": "[encoded data removed]",
      "text/plain": [
       "<Figure size 432x288 with 1 Axes>"
      ]
     },
     "metadata": {
      "needs_background": "light"
     },
     "output_type": "display_data"
    }
   ],
   "source": [
    "y_vloss = history.history['val_loss']\n",
    "y_loss = history.history['loss']\n",
    "\n",
    "x_len = np.arange(len(y_loss))\n",
    "\n",
    "plt.plot(x_len, y_vloss, marker='.', c='red', label='val_set_loss')\n",
    "plt.plot(x_len, y_loss, marker='.', c='blue', label='train_set_loss')\n",
    "plt.legend()\n",
    "plt.xlabel('epochs')\n",
    "plt.ylabel('loss')\n",
    "plt.grid()\n",
    "plt.show()"
   ]
  },
  {
   "cell_type": "code",
   "execution_count": 21,
   "metadata": {
    "scrolled": true
   },
   "outputs": [
    {
     "name": "stdout",
     "output_type": "stream",
     "text": [
      "[1.000 0.000 0.000 0.000]\n",
      "0\n",
      "해당 1.jpg이미지는 g80로 추정됩니다.\n",
      "[1.000 0.000 0.000 0.000]\n",
      "0\n",
      "해당 3.jpg이미지는 g80로 추정됩니다.\n",
      "[0.000 0.000 0.000 1.000]\n",
      "3\n",
      "해당 4.jpg이미지는 kia stinger로 추정됩니다.\n",
      "[1.000 0.000 0.000 0.000]\n",
      "0\n",
      "해당 5.jpg이미지는 g80로 추정됩니다.\n",
      "[0.000 0.000 0.000 1.000]\n",
      "3\n",
      "해당 6.jpg이미지는 kia stinger로 추정됩니다.\n",
      "[1.000 0.000 0.000 0.000]\n",
      "0\n",
      "해당 7.jpg이미지는 g80로 추정됩니다.\n"
     ]
    }
   ],
   "source": [
    "from PIL import Image\n",
    "import os, glob, numpy as np\n",
    "from keras.models import load_model\n",
    "\n",
    "caltech_dir = \"data/test\"\n",
    "image_w = 64\n",
    "image_h = 64\n",
    "\n",
    "pixels = image_h * image_w * 3\n",
    "\n",
    "X = []\n",
    "filenames = []\n",
    "files = glob.glob(caltech_dir+\"/*.*\")\n",
    "for i, f in enumerate(files):\n",
    "    img = Image.open(f)\n",
    "    img = img.convert(\"RGB\")\n",
    "    img = img.resize((image_w, image_h))\n",
    "    data = np.asarray(img)\n",
    "    filenames.append(f)\n",
    "    X.append(data)\n",
    "\n",
    "X = np.array(X)\n",
    "model = load_model('./model/multi_img_classification.model')\n",
    "\n",
    "prediction = model.predict(X)\n",
    "np.set_printoptions(formatter={'float': lambda x: \"{0:0.3f}\".format(x)})\n",
    "cnt = 0\n",
    "\n",
    "#이 비교는 그냥 파일들이 있으면 해당 파일과 비교. 카테고리와 함께 비교해서 진행하는 것은 _4 파일.\n",
    "for i in prediction:\n",
    "    pre_ans = i.argmax()  # 예측 레이블\n",
    "    print(i)\n",
    "    print(pre_ans)\n",
    "    pre_ans_str = ''\n",
    "    if pre_ans == 0: pre_ans_str = \"g80\"\n",
    "    elif pre_ans == 1: pre_ans_str = \"gv70\"\n",
    "    elif pre_ans == 2: pre_ans_str = \"gv80\"\n",
    "    else: pre_ans_str = \"kia stinger\"\n",
    "    if i[0] >= 0.8 : print(\"해당 \"+filenames[cnt].split(\"\\\\\")[1]+\"이미지는 \"+pre_ans_str+\"로 추정됩니다.\")\n",
    "    if i[1] >= 0.8: print(\"해당 \"+filenames[cnt].split(\"\\\\\")[1]+\"이미지는 \"+pre_ans_str+\"으로 추정됩니다.\")\n",
    "    if i[2] >= 0.8: print(\"해당 \"+filenames[cnt].split(\"\\\\\")[1]+\"이미지는 \"+pre_ans_str+\"로 추정됩니다.\")\n",
    "    if i[3] >= 0.8: print(\"해당 \"+filenames[cnt].split(\"\\\\\")[1]+\"이미지는 \"+pre_ans_str+\"로 추정됩니다.\")\n",
    "    cnt += 1\n",
    "    # print(i.argmax()) #얘가 레이블 [1. 0. 0.] 이런식으로 되어 있는 것을 숫자로 바꿔주는 것.\n",
    "    # 즉 얘랑, 나중에 카테고리 데이터 불러와서 카테고리랑 비교를 해서 같으면 맞는거고, 아니면 틀린거로 취급하면 된다.\n",
    "    # 이걸 한 것은 _4.py에."
   ]
  },
  {
   "cell_type": "code",
   "execution_count": null,
   "metadata": {},
   "outputs": [],
   "source": []
  }
 ],
 "metadata": {
  "kernelspec": {
   "display_name": "Python 3",
   "language": "python",
   "name": "python3"
  },
  "language_info": {
   "codemirror_mode": {
    "name": "ipython",
    "version": 3
   },
   "file_extension": ".py",
   "mimetype": "text/x-python",
   "name": "python",
   "nbconvert_exporter": "python",
   "pygments_lexer": "ipython3",
   "version": "3.7.9"
  }
 },
 "nbformat": 4,
 "nbformat_minor": 4
}
